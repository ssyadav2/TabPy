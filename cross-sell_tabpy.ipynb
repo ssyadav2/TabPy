{
 "cells": [
  {
   "cell_type": "code",
   "execution_count": 1,
   "metadata": {},
   "outputs": [],
   "source": [
    "import pandas as pd\n",
    "import numpy as np\n",
    "from sklearn.utils import resample\n",
    "from xgboost import XGBClassifier\n",
    "import tabpy_client"
   ]
  },
  {
   "cell_type": "code",
   "execution_count": 2,
   "metadata": {},
   "outputs": [],
   "source": [
    "df=pd.read_csv(\"C:/Users/ID68844/Desktop/Cross Sell/dummy_data.csv\")"
   ]
  },
  {
   "cell_type": "code",
   "execution_count": 3,
   "metadata": {},
   "outputs": [],
   "source": [
    "df = df[(df[\"max_age\"]>0) & (df['max_age']<110) & (df[\"min_age\"]>0) & (df[\"min_age\"]<110)]"
   ]
  },
  {
   "cell_type": "code",
   "execution_count": 4,
   "metadata": {},
   "outputs": [],
   "source": [
    "features_drop=[\"hshld_id\", \"cal_dt\", \"cal_month\", \"randn\"]"
   ]
  },
  {
   "cell_type": "code",
   "execution_count": 5,
   "metadata": {},
   "outputs": [],
   "source": [
    "df.drop(features_drop, axis=1, inplace=True)"
   ]
  },
  {
   "cell_type": "code",
   "execution_count": 6,
   "metadata": {},
   "outputs": [],
   "source": [
    "# Removing unvarying variables\n",
    "df.drop([\"crophailcount\", \"act_ann_prem_ind\", \"farm_ind\", \"Unnamed: 0\"], axis=1, inplace=True)"
   ]
  },
  {
   "cell_type": "code",
   "execution_count": 7,
   "metadata": {},
   "outputs": [],
   "source": [
    "# performing over-sampling\n",
    "\n",
    "y1=df[df[\"umbrella_xsell_3q\"]==0]\n",
    "y2=df[df[\"umbrella_xsell_3q\"]==1]\n",
    "\n",
    "y2_mod=resample(y2, replace=True, n_samples=len(y1))\n",
    "df_bal=pd.concat([y1, y2_mod])"
   ]
  },
  {
   "cell_type": "code",
   "execution_count": 8,
   "metadata": {},
   "outputs": [],
   "source": [
    "# Separating features and target class\n",
    "Y=df_bal[\"umbrella_xsell_3q\"]\n",
    "X=df_bal.drop([\"umbrella_xsell_3q\"], axis=1)"
   ]
  },
  {
   "cell_type": "code",
   "execution_count": 9,
   "metadata": {},
   "outputs": [],
   "source": [
    "model = XGBClassifier()"
   ]
  },
  {
   "cell_type": "code",
   "execution_count": 10,
   "metadata": {},
   "outputs": [
    {
     "data": {
      "text/plain": [
       "XGBClassifier(base_score=0.5, booster='gbtree', colsample_bylevel=1,\n",
       "       colsample_bynode=1, colsample_bytree=1, gamma=0, learning_rate=0.1,\n",
       "       max_delta_step=0, max_depth=3, min_child_weight=1, missing=None,\n",
       "       n_estimators=100, n_jobs=1, nthread=None,\n",
       "       objective='binary:logistic', random_state=0, reg_alpha=0,\n",
       "       reg_lambda=1, scale_pos_weight=1, seed=None, silent=None,\n",
       "       subsample=1, verbosity=1)"
      ]
     },
     "execution_count": 10,
     "metadata": {},
     "output_type": "execute_result"
    }
   ],
   "source": [
    "model.fit(X.values, Y.values)"
   ]
  },
  {
   "cell_type": "code",
   "execution_count": 11,
   "metadata": {},
   "outputs": [
    {
     "data": {
      "text/plain": [
       "Index(['Unnamed: 0.1', 'autocount', 'homecount', 'renterscount', 'farmcount',\n",
       "       'life10count', 'life20count', 'life30count', 'termlifecount',\n",
       "       'wholelifecount', 'fixedulcount', 'individualhealthcount',\n",
       "       'longtermcarecount', 'medsupcount', 'disabilityincomecount',\n",
       "       'commercialcount', 'financialcount', 'federalcropcount', 'max_age',\n",
       "       'min_age', 'hh_tenure', 'months_since_last_purch', 'married_ind',\n",
       "       'num_persons', 'stip_ann_prem_ind', 'home_owner_0_ind',\n",
       "       'home_owner_1_ind', 'drvr_cnt', 'veh_cnt', 'max_bi_limit',\n",
       "       'prim_dwlg_insd_amt', 'nbr_of_sq_feet', 'clm_cnt_lst_12mo',\n",
       "       'clm_cnt_lst_36mo', 'clm_cnt_lst_60mo', 'clm_cnt_lst_84mo'],\n",
       "      dtype='object')"
      ]
     },
     "execution_count": 11,
     "metadata": {},
     "output_type": "execute_result"
    }
   ],
   "source": [
    "X.columns"
   ]
  },
  {
   "cell_type": "code",
   "execution_count": 21,
   "metadata": {},
   "outputs": [],
   "source": [
    "def PCS(autocount, homecount, max_age, prim_amount, vehcount):\n",
    "    renterscount = 0\n",
    "    farmcount = 0\n",
    "    life10count = 0\n",
    "    life20count = 1\n",
    "    life30count = 0\n",
    "    termlifecount = 0\n",
    "    wholelifecount = 3\n",
    "    fixedulcount = 0\n",
    "    individualhealthcount = 0\n",
    "    longtermcarecount = 0\n",
    "    medsupcount = 0\n",
    "    disabilityincomecount = 0\n",
    "    commercialcount = 0\n",
    "    financialcount = 1\n",
    "    federalcropcount = 0\n",
    "    married_ind = 1\n",
    "    min_age = 35\n",
    "    hh_tenure = 10\n",
    "    months_since_last_purch = 16\n",
    "    num_persons = 3\n",
    "    stip_ann_prem_ind = 0\n",
    "    home_owner_0_ind = 0\n",
    "    home_owner_1_ind = 1\n",
    "    drvr_cnt = 2\n",
    "    max_bi_limit = 300000\n",
    "    nbr_of_sq_feet = 1700\n",
    "    clm_cnt_lst_12mo = 0\n",
    "    clm_cnt_lst_36mo = 1\n",
    "    clm_cnt_lst_60mo = 1\n",
    "    clm_cnt_lst_84mo = 1\n",
    "    X = np.column_stack([int(autocount), int(homecount), int(renterscount), int(farmcount),\n",
    "       life10count, life20count, life30count, termlifecount,\n",
    "       wholelifecount, fixedulcount, individualhealthcount,\n",
    "       longtermcarecount, medsupcount, disabilityincomecount,\n",
    "       commercialcount, financialcount, federalcropcount, int(max_age),\n",
    "       min_age, hh_tenure, months_since_last_purch, married_ind,\n",
    "       num_persons, stip_ann_prem_ind, home_owner_0_ind,\n",
    "       home_owner_1_ind, drvr_cnt, int(vehcount), max_bi_limit,\n",
    "       int(prim_amount), nbr_of_sq_feet, clm_cnt_lst_12mo,\n",
    "       clm_cnt_lst_36mo, clm_cnt_lst_60mo, clm_cnt_lst_84mo])\n",
    "    a = model.predict(X).tolist()\n",
    "    b = model.predict_proba(X).tolist()\n",
    "    a.extend(b)    \n",
    "    return a"
   ]
  },
  {
   "cell_type": "code",
   "execution_count": 22,
   "metadata": {},
   "outputs": [],
   "source": [
    "connection = tabpy_client.Client('http://localhost:9004/')\n",
    "connection.deploy('PCS',PCS,\n",
    "                  'Predicting probability of cross-sell from given data', override=True)"
   ]
  },
  {
   "cell_type": "code",
   "execution_count": 24,
   "metadata": {},
   "outputs": [
    {
     "data": {
      "text/plain": [
       "{'response': [0, [0.5675714015960693, 0.43242859840393066]],\n",
       " 'version': 7,\n",
       " 'model': 'PCS',\n",
       " 'uuid': '048b933e-c6cb-4691-a8bd-a57c9ae1159c'}"
      ]
     },
     "execution_count": 24,
     "metadata": {},
     "output_type": "execute_result"
    }
   ],
   "source": [
    "connection.query('PCS', 0, 0, 75, 188100, 2)"
   ]
  },
  {
   "cell_type": "code",
   "execution_count": null,
   "metadata": {},
   "outputs": [],
   "source": [
    "PCS(1, 1, 75, 188100, 2)"
   ]
  },
  {
   "cell_type": "code",
   "execution_count": null,
   "metadata": {},
   "outputs": [],
   "source": [
    "connection.query('Add', 1, 1)"
   ]
  },
  {
   "cell_type": "code",
   "execution_count": null,
   "metadata": {},
   "outputs": [],
   "source": []
  }
 ],
 "metadata": {
  "kernelspec": {
   "display_name": "Python 3",
   "language": "python",
   "name": "python3"
  },
  "language_info": {
   "codemirror_mode": {
    "name": "ipython",
    "version": 3
   },
   "file_extension": ".py",
   "mimetype": "text/x-python",
   "name": "python",
   "nbconvert_exporter": "python",
   "pygments_lexer": "ipython3",
   "version": "3.7.1"
  }
 },
 "nbformat": 4,
 "nbformat_minor": 2
}
